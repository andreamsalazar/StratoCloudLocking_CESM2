{
 "cells": [
  {
   "cell_type": "code",
   "execution_count": 1,
   "id": "0e1741f9-de5e-4f6a-8d31-aac704e6913c",
   "metadata": {},
   "outputs": [],
   "source": [
    "import netCDF4 as nc\n",
    "import numpy as np\n",
    "import matplotlib.pyplot as plt\n",
    "import os\n",
    "import pathlib, glob\n",
    "import cartopy.crs as ccrs\n",
    "from scipy.signal import savgol_filter\n",
    "import string\n",
    "from cartopy.util import add_cyclic_point\n",
    "from matplotlib import colors\n",
    "\n",
    "%run ./get_fixed_variables.ipynb # load plotting functions and fixed vars"
   ]
  },
  {
   "cell_type": "code",
   "execution_count": 2,
   "id": "69aeef94-f57b-4022-be18-9fc0b5d2463d",
   "metadata": {},
   "outputs": [],
   "source": [
    "## load surface temperature [K]\n",
    "FSNS_8xco2_strato = np.load('/glade/campaign/univ/uhar0013/asalazar/saved_data/FSNS_8xco2_strato.npy')\n",
    "FSNS_8xco2_nostrato = np.load('/glade/campaign/univ/uhar0013/asalazar/saved_data/FSNS_8xco2_nostrato.npy')\n",
    "FSNS_1xco2_strato = np.load('/glade/campaign/univ/uhar0013/asalazar/saved_data/FSNS_PI_strato.npy')\n",
    "FSNS_1xco2_nostrato = np.load('/glade/campaign/univ/uhar0013/asalazar/saved_data/FSNS_PI_nostrato.npy')\n",
    "\n",
    "\n",
    "FLNS_8xco2_strato = np.load('/glade/campaign/univ/uhar0013/asalazar/saved_data/FLNS_8xco2_strato.npy')\n",
    "FLNS_8xco2_nostrato = np.load('/glade/campaign/univ/uhar0013/asalazar/saved_data/FLNS_8xco2_nostrato.npy')\n",
    "FLNS_1xco2_strato = np.load('/glade/campaign/univ/uhar0013/asalazar/saved_data/FLNS_PI_strato.npy')\n",
    "FLNS_1xco2_nostrato = np.load('/glade/campaign/univ/uhar0013/asalazar/saved_data/FLNS_PI_nostrato.npy')\n",
    "\n",
    "\n",
    "LHFLX_8xco2_strato = np.load('/glade/campaign/univ/uhar0013/asalazar/saved_data/LHFLX_8xco2_strato.npy')\n",
    "LHFLX_8xco2_nostrato = np.load('/glade/campaign/univ/uhar0013/asalazar/saved_data/LHFLX_8xco2_nostrato.npy')\n",
    "LHFLX_1xco2_strato = np.load('/glade/campaign/univ/uhar0013/asalazar/saved_data/LHFLX_PI_strato.npy')\n",
    "LHFLX_1xco2_nostrato = np.load('/glade/campaign/univ/uhar0013/asalazar/saved_data/LHFLX_PI_nostrato.npy')\n",
    "\n",
    "\n",
    "\n",
    "SHFLX_8xco2_strato = np.load('/glade/campaign/univ/uhar0013/asalazar/saved_data/SHFLX_8xco2_strato.npy')\n",
    "SHFLX_8xco2_nostrato = np.load('/glade/campaign/univ/uhar0013/asalazar/saved_data/SHFLX_8xco2_nostrato.npy')\n",
    "SHFLX_1xco2_strato = np.load('/glade/campaign/univ/uhar0013/asalazar/saved_data/SHFLX_PI_strato.npy')\n",
    "SHFLX_1xco2_nostrato = np.load('/glade/campaign/univ/uhar0013/asalazar/saved_data/SHFLX_PI_nostrato.npy')\n"
   ]
  },
  {
   "cell_type": "code",
   "execution_count": 3,
   "id": "f438d276-12cd-4701-a4f7-b440651c92d0",
   "metadata": {},
   "outputs": [],
   "source": [
    "year_to_avg = 5\n",
    "FLNS_diff_1xco2 = yearly_avg(FLNS_1xco2_nostrato,year_to_avg)-yearly_avg(FLNS_1xco2_strato,year_to_avg)\n",
    "FSNS_diff_1xco2 = yearly_avg(FSNS_1xco2_nostrato,year_to_avg)-yearly_avg(FSNS_1xco2_strato,year_to_avg)\n",
    "LHFLX_diff_1xco2 = yearly_avg(LHFLX_1xco2_nostrato,year_to_avg)-yearly_avg(LHFLX_1xco2_strato,year_to_avg)\n",
    "SHFLX_diff_1xco2 = yearly_avg(SHFLX_1xco2_nostrato,year_to_avg)-yearly_avg(SHFLX_1xco2_strato,year_to_avg)\n",
    "\n",
    "FLNS_diff_8xco2 = yearly_avg(FLNS_8xco2_nostrato,year_to_avg)-yearly_avg(FLNS_8xco2_strato,year_to_avg)\n",
    "FSNS_diff_8xco2 = yearly_avg(FSNS_8xco2_nostrato,year_to_avg)-yearly_avg(FSNS_8xco2_strato,year_to_avg)\n",
    "LHFLX_diff_8xco2 = yearly_avg(LHFLX_8xco2_nostrato,year_to_avg)-yearly_avg(LHFLX_8xco2_strato,year_to_avg)\n",
    "SHFLX_diff_8xco2 = yearly_avg(SHFLX_8xco2_nostrato,year_to_avg)-yearly_avg(SHFLX_8xco2_strato,year_to_avg)\n"
   ]
  },
  {
   "cell_type": "code",
   "execution_count": 4,
   "id": "78623fbb-8857-4471-b99f-b6797edbef55",
   "metadata": {},
   "outputs": [],
   "source": [
    "conv = 1000*60*60*24\n",
    "LANDMASK_nan = LANDMASK*np.nan\n",
    "#LANDMASK_nan[yearly_avg(SOILLIQ_8xco2[:,0,:,:], 30) < 1e10] = 1\n",
    "S2_vars = np.array([[FSNS_diff_8xco2, FSNS_diff_1xco2],\n",
    "                         [FLNS_diff_8xco2, FLNS_diff_1xco2],\n",
    "                    [LHFLX_diff_8xco2, LHFLX_diff_1xco2],\n",
    "                   [SHFLX_diff_8xco2, SHFLX_diff_1xco2],\n",
    "                   [FSNS_diff_8xco2-FLNS_diff_8xco2-LHFLX_diff_8xco2-SHFLX_diff_8xco2, FSNS_diff_1xco2-FLNS_diff_1xco2-LHFLX_diff_1xco2-SHFLX_diff_1xco2]])\n",
    "levels_list = [[np.linspace(-30,30,33),np.linspace(-30,30,33)],\n",
    "               [np.linspace(-30,30,33),np.linspace(-30,30,33)],\n",
    "               [np.linspace(-30,30,33),np.linspace(-30,30,33)],\n",
    "                        [np.linspace(-30,30,33),np.linspace(-30,30,33)],\n",
    "               [np.linspace(-30,30,33),np.linspace(-30,30,33)]]\n",
    "cmap_list = np.array([['RdBu_r','RdBu_r'],\n",
    "                      ['RdBu_r','RdBu_r'],\n",
    "                      ['RdBu_r','RdBu_r'],\n",
    "                      ['RdBu_r','RdBu_r'],\n",
    "                     ['RdBu_r','RdBu_r']])\n",
    "title_list = np.array([['$\\\\Delta$ Net Surface Shortwave (Wm$^{-2}$) \\n in 8xCO$_2$-locked $\\\\it{no}$-$\\\\it{strato} - \\\\it{strato}$', '$\\\\Delta$ Net Surface Shortwave (Wm$^{-2}$) \\n in 1xCO$_2$-locked $\\\\it{no}$-$\\\\it{strato} - \\\\it{strato}$'],\n",
    "                       ['$\\\\Delta$ Net Surface Longwave (Wm$^{-2}$) \\n in 8xCO$_2$, $\\\\it{no}$-$\\\\it{strato} - \\\\it{strato}$', '$\\\\Delta$ Net Surface Longwave (Wm$^{-2}$) \\n in 1xCO$_2$, $\\\\it{no}$-$\\\\it{strato} - \\\\it{strato}$'],\n",
    "                       ['$\\\\Delta$ LH Flux (Wm$^{-2}$) \\n in 8xCO$_2$, $\\\\it{no}$-$\\\\it{strato} - \\\\it{strato}$','$\\\\Delta$ LH Flux (Wm$^{-2}$) \\n in 1xCO$_2$, $\\\\it{no}$-$\\\\it{strato} - \\\\it{strato}$'],\n",
    "                      ['$\\\\Delta$ SH Flux (Wm$^{-2}$) \\n in 8xCO$_2$, $\\\\it{no}$-$\\\\it{strato} - \\\\it{strato}$','$\\\\Delta$ SH Flux (Wm$^{-2}$) \\n in 1xCO$_2$, $\\\\it{no}$-$\\\\it{strato} - \\\\it{strato}$'],\n",
    "                      ['$\\\\Delta$ SEB (Wm$^{-2}$) \\n in 8xCO$_2$, $\\\\it{no}$-$\\\\it{strato} - \\\\it{strato}$','$\\\\Delta$ SEB (Wm$^{-2}$) \\n in 1xCO$_2$, $\\\\it{no}$-$\\\\it{strato} - \\\\it{strato}$']])\n",
    "\n",
    "\n",
    "text_list = np.array([['A','B'],['C','D'],['E','F'],['G','H'],['I','J']])\n"
   ]
  },
  {
   "cell_type": "code",
   "execution_count": null,
   "id": "b1ee0602-6e09-4321-9b06-17c38ace0c1d",
   "metadata": {},
   "outputs": [],
   "source": [
    "extend = 'both'\n",
    "shrink = 0.7\n",
    "make_subplots(S2_vars, levels_list,cmap_list, title_list, 'Figure_S5', text_list, (12,15))"
   ]
  },
  {
   "cell_type": "code",
   "execution_count": null,
   "id": "c2d509dc-0c21-4140-8cfc-650526ff4da1",
   "metadata": {},
   "outputs": [],
   "source": []
  },
  {
   "cell_type": "code",
   "execution_count": null,
   "id": "5af28927-bfdd-4103-8f62-6b6834da8a5c",
   "metadata": {},
   "outputs": [],
   "source": []
  },
  {
   "cell_type": "code",
   "execution_count": null,
   "id": "c1aa7b46-a3a1-4c57-9f58-ecc6ae0f0594",
   "metadata": {},
   "outputs": [],
   "source": []
  }
 ],
 "metadata": {
  "kernelspec": {
   "display_name": "Python 3 (ipykernel)",
   "language": "python",
   "name": "python3"
  },
  "language_info": {
   "codemirror_mode": {
    "name": "ipython",
    "version": 3
   },
   "file_extension": ".py",
   "mimetype": "text/x-python",
   "name": "python",
   "nbconvert_exporter": "python",
   "pygments_lexer": "ipython3",
   "version": "3.11.6"
  }
 },
 "nbformat": 4,
 "nbformat_minor": 5
}
